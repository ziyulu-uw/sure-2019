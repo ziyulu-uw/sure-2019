{
 "cells": [
  {
   "cell_type": "markdown",
   "metadata": {},
   "source": [
    "@author: Xinyu Li\n",
    "\n",
    "@last updated: Aug 22 "
   ]
  },
  {
   "cell_type": "markdown",
   "metadata": {},
   "source": [
    "#### Initialize Parameter\n",
    "Paramters about the meal, insulin dynamics, minimal model, cost function weights, and time descritization are set in the following cell"
   ]
  },
  {
   "cell_type": "code",
   "execution_count": 1,
   "metadata": {},
   "outputs": [],
   "source": [
    "# %load Initialization\n",
    "# Author: Xinyu Li\n",
    "# Email: xl1796@nyu.edu\n",
    "# Date: August 2019\n",
    "# Description: Some parameters and inputs are initialized here\n",
    "\n",
    "import numpy as np\n",
    "\n",
    "## Meal Input\n",
    "# meal time\n",
    "tk_list  = [60, 350, 720]      #unit: min\n",
    "# the time that the subject take the meal\n",
    "meal_time=25\n",
    "# meal intake value\n",
    "qk_list  = np.array([3000, 4500, 3500])/meal_time  #unit: mg/min, from ref 1 in Xinyu's writeup\n",
    "\n",
    "# digestion coefficient\n",
    "tau      = 80                 #unit: 1  [unknown parameter!!!]\n",
    "# initial glucose rate of appearance\n",
    "Ra_0     = 5                   #unit: mg/kg/min\n",
    "\n",
    "## Insulin Parameter\n",
    "c1       = 0.25                #unit: min^-1   [unknown parameter!!!]\n",
    "c2       = 0.2                 #unit: min^-1   [unknown parameter!!!]\n",
    "I0       = 0.38                #unit: mU/l     [unknown initial condition]\n",
    "Ib       = 0\n",
    "\n",
    "## Minimal Model Parameter\n",
    "p1       = 0.6                 #param determined by bio-experiments (unit: min^-1)\n",
    "p2       = 0.0122              #unit: min^-1\n",
    "p3       = 1.7e-5              #unit: min^-2 mU/l\n",
    "Gb       = 125                 #basal plasma glucose (unit:mg/dl)\n",
    "G0       = 130\n",
    "X0       = 0\n",
    "\"\"\"A fasting blood sugar level less than 100 mg/dL (5.6 mmol/L) is normal.\n",
    " A fasting blood sugar level from 100 to 125 mg/dL (5.6 to 6.9 mmol/L) is considered prediabetes.\n",
    "  If it's 126 mg/dL (7 mmol/L) or higher on two separate tests, you have diabete\"\"\"\n",
    "\n",
    "## Wrap the parameters into a list:\n",
    "param_list    = [p1, p2, p3, Gb, Ib, tau, c1, c2]\n",
    "init_cond     = [G0, X0, I0, Ra_0]\n",
    "\n",
    "## Cost function parameter\n",
    "lam      = 0.5\n",
    "\n",
    "## Code Parameter\n",
    "end_time = 1000                 #unit: min\n",
    "N        = int(end_time*2+1)    #num of time step\n",
    "t_list   = np.linspace(0, end_time, N)\n",
    "h        = t_list[1]-t_list[0]\n",
    "dt       = 5                    #unit: min\n",
    "N_meas   = int(end_time/dt+1)   #num of measurements\n",
    "meas_time= np.linspace(0, end_time, N_meas)\n"
   ]
  },
  {
   "cell_type": "markdown",
   "metadata": {},
   "source": [
    "#### Meal Intake Function D(t)\n",
    "The meal model is piecewise constant. We temporarily assume the meal time is 5 min. The meal intake value and meal time are set in Initialization cell. Later, we can replace them with some random process."
   ]
  },
  {
   "cell_type": "code",
   "execution_count": 2,
   "metadata": {},
   "outputs": [],
   "source": [
    "# %load Meal\n",
    "# Author: Xinyu Li\n",
    "# Email: xl1796@nyu.edu\n",
    "# Date: August 2019\n",
    "# Description: Meal intake function are defined here\n",
    "\n",
    "\n",
    "def D(t, tk_list, qk_list, meal_time):\n",
    "    \"\"\"meal intake function is a piecewise constant one, starting from meal time, and last for 5mins\n",
    "    @:param tk_list:     a list of time when meal intake happens\n",
    "    @:param qk_listL     a list of meal intake value\"\"\"\n",
    "\n",
    "    for i in range(len(tk_list)):\n",
    "        if t-tk_list[i]<meal_time and t>tk_list[i]:\n",
    "            return qk_list[i]\n",
    "    return 0"
   ]
  },
  {
   "cell_type": "markdown",
   "metadata": {},
   "source": [
    "#### Linear Interpolation\n",
    "The following Linear_approx is a tool box that provides interpolation tools.\n",
    "1. Linear interpolation\n",
    "2. Piecewise constant interpolation"
   ]
  },
  {
   "cell_type": "code",
   "execution_count": 3,
   "metadata": {},
   "outputs": [],
   "source": [
    "# %load Linear_approx\n",
    "# Author: Xinyu Li\n",
    "# Email: xl1796@nyu.edu\n",
    "# Date: August 2019\n",
    "# Description: Some tools to determine function value based on linear approximation has been included here\n",
    "import numpy as np\n",
    "\n",
    "def Linear_interpolation(t, I_list, t_list):\n",
    "    \"\"\" Find out I at time t using a linear interpolation between two points in t_list\n",
    "    @:param t:         given time\n",
    "    @:param I_list:    a list of function values with respect to t\n",
    "    @:param t_list:    the corresponding time discretization \"\"\"\n",
    "\n",
    "    # np.searchsorted - return i satisfies t_list[i-1] <= t < t_list[i]\n",
    "    idx1 = np.searchsorted(t_list, t, side=\"right\") - 1\n",
    "    idx2 = idx1+1\n",
    "\n",
    "    if idx2<len(I_list):\n",
    "        y1   = I_list[idx1]\n",
    "        y2   = I_list[idx2]\n",
    "        x1   = t_list[idx1]\n",
    "        x2   = t_list[idx2]\n",
    "        I_t  = (y2-y1)/(x2-x1)*(t-x1)+y1\n",
    "        return I_t\n",
    "    return I_list[-1]\n",
    "\n",
    "\n",
    "def Constant_interpolation(t, I_list, t_list):\n",
    "    \"\"\" Find out function I at time t using a piecewise constant approximation between two points in t_list\n",
    "        @:param t:         given time\n",
    "        @:param I_list:    a list of function values with respect to t\n",
    "        @:param t_list:    the corresponding time discretization \"\"\"\n",
    "\n",
    "    idx1 = np.searchsorted(t_list, t, side=\"right\") - 1 # t_list[idx1]<= t < t_list[idx1+1]\n",
    "    return I_list[idx1]\n"
   ]
  },
  {
   "cell_type": "markdown",
   "metadata": {},
   "source": [
    "#### Minimal Model ODE solver\n",
    "1. The minimal model \n",
    "2. The dynamics of Insulin \n",
    "3. Glucose appearance rate"
   ]
  },
  {
   "cell_type": "code",
   "execution_count": 4,
   "metadata": {},
   "outputs": [],
   "source": [
    "# %load ODE_solver\n",
    "# Author: Xinyu Li\n",
    "# Email: xl1796@nyu.edu\n",
    "# Date: August 2019\n",
    "# Description: This program is a differential equation solver for minimal model\n",
    "\n",
    "from scipy.integrate import odeint\n",
    "\n",
    "def dMiniMod(x, t, param_list, vn_list, t_list, tk_list, qk_list, meal_time):\n",
    "    \"\"\" ODE for minimal model\n",
    "    @:param x           state variable\n",
    "    @:param t           a time scalar\n",
    "    \n",
    "    param_list  = [p1, p2, p3, Gb, Ib, tau, c1, c2]\n",
    "    @:param p1, p2, p3: bio parameters (unit: min^-1, min^-1, min^-1 mU/l)\n",
    "    @:param Gb, Ib:     basal plasma glucose (mmol/l) and insulin (mU/l)\n",
    "    @:param tau:        a constant parameter associated with digestion efficiency\n",
    "    @:param c1:         constant parameter in the insulin ODE model\n",
    "    @:param c2:         constant parameter in the insulin ODE model\n",
    "    \n",
    "    @:param vn_list:    a list of control exerted on the model\n",
    "    @:param t_list:     time descritization for the whole simulation\n",
    "    @:param tk_list:    a list of meal time\n",
    "    @:param qk_list:    a list of glucose input from meal    \n",
    "    @:param meal_time:  how long a meal intake last\"\"\"\n",
    "    \n",
    "    ## get the state variable\n",
    "    G  = x[0]\n",
    "    X  = x[1]\n",
    "    I  = x[2]\n",
    "    Ra = x[3]\n",
    "    ## get the control\n",
    "    vn = Constant_interpolation(t, vn_list, t_list)  # function linear_func could also be used on vn_list\n",
    "    ## get the parameters\n",
    "    p1, p2, p3, Gb, Ib, tau, c1, c2 = param_list\n",
    "    \n",
    "    ## ODEs for the system\n",
    "    dG_dt = -(p1 + X) * G + p1 * Gb + Ra\n",
    "    dX_dt = -p2 * X + p3 * (I - Ib)\n",
    "    dI_dt = -c1 * I + c2 * vn\n",
    "    dRa_dt= -1/tau*(Ra - D(t, tk_list, qk_list, meal_time))\n",
    "    \n",
    "    ## Return the derivatives\n",
    "    return [dG_dt, dX_dt, dI_dt, dRa_dt]\n",
    "\n",
    "\n",
    "def Minimod_ODE_solver(G0, X0, I0, Ra_0, sub_t_list, param_list, vn_list,t_list, tk_list, qk_list, meal_time):\n",
    "    \"\"\" ODE for minimal model\n",
    "    @:param G0:         initial condition of glucose level\n",
    "    @:param X0:         initial condition of remote insulin level\n",
    "    @:param I0:         initial condition of insulin level\n",
    "    @:param Ra_0:       initial condition of glucose appearance rate\n",
    "    @:param sub_t_list: time discretization for the simulation\n",
    "    @:param param_list: [p1, p2, p3, Gb, Ib, tau, c1, c2]\n",
    "    @:param vn_list:    a list of control exerted on the model\n",
    "    @:param t_list:     time descritization for the whole simulation\n",
    "    @:param tk_list:    a list of meal time\n",
    "    @:param qk_list:    a list of glucose input from meal    \n",
    "    @:param meal_time:  how long a meal intake last\"\"\"\n",
    "\n",
    "    ## initial condition for [G, X]\n",
    "    x0     = [G0, X0, I0, Ra_0]\n",
    "      \n",
    "    ## Solve ODE system\n",
    "    x      = odeint(dMiniMod, x0, sub_t_list, args=(param_list, vn_list, t_list, tk_list, qk_list, meal_time))\n",
    "\n",
    "    ## return the result\n",
    "    G  = x[:,0]\n",
    "    X  = x[:,1]\n",
    "    I  = x[:,2]\n",
    "    Ra = x[:,3]\n",
    "\n",
    "    return G, X, I, Ra\n",
    "\n"
   ]
  },
  {
   "cell_type": "markdown",
   "metadata": {},
   "source": [
    "#### Model Simulation\n",
    "In the Simulation.py, the ODE solver would be called repeatedly when new measurement happens."
   ]
  },
  {
   "cell_type": "code",
   "execution_count": 5,
   "metadata": {},
   "outputs": [],
   "source": [
    "# %load Simulation\n",
    "# Author: Xinyu Li\n",
    "# Email: xl1796@nyu.edu\n",
    "# Date: August 2019\n",
    "# Description: This program simulate the process with filter\n",
    "\n",
    "import numpy as np\n",
    "\n",
    "def path_generator(G0, X0, I0, Ra_0, param_list,vn_list, meas_time, t_list, tk_list, qk_list, meal_time, dt, h):\n",
    "    \"\"\"this function generates the path given control vn_list\n",
    "    @:param G0,X0,I0,Ra_0:                   initial conditions of glucose level, \n",
    "                                             remote insulin level, insulin level, glucose disappearance rate\n",
    "    @:param param_list:                      [p1, p2, p3, Gb, Ib, tau, c1, c2]\n",
    "    @:param vn_list:                         a list of controls. dimension = len(t_list)\n",
    "    @:param meas_time:                       the time where measurement happens\n",
    "    @:param t_list:                          time discretization\n",
    "    @:param tk_list, qk_list:                food intake time and food intake value\n",
    "    @:param dt, h:                           time step between two measurements, time step of time discretization\"\"\"\n",
    "\n",
    "    Gn         = G0\n",
    "    Xn         = X0\n",
    "    In         = I0\n",
    "    Ra_n       = Ra_0\n",
    "\n",
    "    G_list     = [G0]\n",
    "    X_list     = [X0]\n",
    "    I_list     = [I0]\n",
    "    Ra_list    = [Ra_0]\n",
    "\n",
    "    N_meas     = len(meas_time)\n",
    "\n",
    "    for i in range(N_meas-1):\n",
    "        ## Discretize to sub section in one dt\n",
    "        sub_t_list  =  t_list[int(i*dt/h): int((i+1)*dt/h+1)]\n",
    "\n",
    "        ## Solve the ODE in the sub section\n",
    "        G, X, I, Ra = Minimod_ODE_solver(Gn, Xn, In, Ra_n, sub_t_list, param_list, vn_list,t_list, tk_list, qk_list, meal_time)\n",
    "        ## Update Gn as the initial condition for the next iteration\n",
    "        Gn  = G[-1]\n",
    "        Xn  = X[-1]\n",
    "        In  = I[-1]\n",
    "        Ra_n= Ra[-1]\n",
    "\n",
    "        ## Record\n",
    "        G_list.extend(list(G[1:]))\n",
    "        X_list.extend(list(X[1:]))\n",
    "        I_list.extend(list(I[1:]))\n",
    "        Ra_list.extend(list(Ra[1:]))\n",
    "\n",
    "    return np.array(G_list), np.array(X_list), np.array(I_list), np.array(Ra_list)"
   ]
  },
  {
   "cell_type": "markdown",
   "metadata": {},
   "source": [
    "#### Main function to run the simulation"
   ]
  },
  {
   "cell_type": "code",
   "execution_count": 6,
   "metadata": {},
   "outputs": [],
   "source": [
    "# %load main\n",
    "# Author: Xinyu Li\n",
    "# Email: xl1796@nyu.edu\n",
    "# Date: August 2019\n",
    "# Description: The main function to run the model\n",
    "\n",
    "import numpy as np\n",
    "import matplotlib.pyplot as plt\n",
    "\n",
    "## a no control simulation\n",
    "v0_list = np.zeros([1, len(t_list)])[0]   # a control list which is zero \n",
    "G_no_c, X_no_c, I_no_c, Ra_no_c = path_generator(G0, X0, I0, Ra_0, param_list,v0_list, meas_time, t_list, tk_list, qk_list, meal_time, dt, h)\n",
    "## Some simple control on insulin injection; later will be replaced by control from SGD\n",
    "vn_list = np.zeros([1, len(t_list)])[0]\n",
    "vn_list[100:280] = 240\n",
    "vn_list[600:1000] = 300\n",
    "vn_list[1400:1700] = 120\n",
    "\n",
    "#simulation with control\n",
    "G, X, I, Ra = path_generator(G0, X0, I0, Ra_0, param_list,vn_list, meas_time, t_list, tk_list, qk_list, meal_time, dt, h)"
   ]
  },
  {
   "cell_type": "code",
   "execution_count": 7,
   "metadata": {},
   "outputs": [
    {
     "data": {
      "image/png": "[encoded data removed]",
      "text/plain": [
       "<Figure size 432x288 with 1 Axes>"
      ]
     },
     "metadata": {},
     "output_type": "display_data"
    }
   ],
   "source": [
    "# compare with control and no control senario\n",
    "plt.plot(t_list , G, label=\"with control\")\n",
    "plt.plot(t_list, G_no_c, '--',label=\"no control\")\n",
    "plt.title(\"Glucose $G(t)$\")\n",
    "plt.xlabel(\"min\")\n",
    "plt.ylabel(\"$G$ (mg/dl)\")\n",
    "plt.legend()\n",
    "plt.show()\n"
   ]
  },
  {
   "cell_type": "code",
   "execution_count": 8,
   "metadata": {},
   "outputs": [
    {
     "data": {
      "image/png": "[encoded data removed]",
      "text/plain": [
       "<Figure size 432x288 with 1 Axes>"
      ]
     },
     "metadata": {},
     "output_type": "display_data"
    }
   ],
   "source": [
    "plt.plot(t_list , X, label=\"with control\")\n",
    "plt.plot(t_list, X_no_c, '--',label=\"no control\")\n",
    "plt.title(\"Remote Insulin $X(t)$\")\n",
    "plt.xlabel(\"min\")\n",
    "plt.ylabel(\"$X$ (mg/dl)\")\n",
    "plt.legend()\n",
    "plt.show()\n"
   ]
  },
  {
   "cell_type": "code",
   "execution_count": 9,
   "metadata": {},
   "outputs": [
    {
     "data": {
      "image/png": "[encoded data removed]",
      "text/plain": [
       "<Figure size 432x288 with 1 Axes>"
      ]
     },
     "metadata": {},
     "output_type": "display_data"
    }
   ],
   "source": [
    "plt.plot(t_list,I, label =\"with control\")\n",
    "plt.plot(t_list,I_no_c,'--',label =\"no control\")\n",
    "plt.title(\"Insulin $I(t)$\")\n",
    "plt.xlabel(\"min\")\n",
    "plt.ylabel(\"$I$ (mU/l)\")\n",
    "plt.legend()\n",
    "plt.show()\n"
   ]
  },
  {
   "cell_type": "code",
   "execution_count": 10,
   "metadata": {},
   "outputs": [
    {
     "data": {
      "image/png": "[encoded data removed]",
      "text/plain": [
       "<Figure size 432x288 with 1 Axes>"
      ]
     },
     "metadata": {},
     "output_type": "display_data"
    }
   ],
   "source": [
    "plt.plot(t_list,Ra, label =\"with control\")\n",
    "plt.plot(t_list,Ra_no_c,'--',label =\"no control\")\n",
    "plt.title(\"Glucose Rate of Appearance $R_a$\")\n",
    "plt.xlabel(\"min\")\n",
    "plt.ylabel(\"$R_a$ (mg/kg/min)\")\n",
    "plt.legend()\n",
    "plt.show()\n"
   ]
  },
  {
   "cell_type": "markdown",
   "metadata": {},
   "source": [
    "##### Remark:\n",
    "We can see that the glucose level can be efficiently affected by the control control\n",
    "\n",
    "However, I am not sure whether such high inusulin level are normal.\n",
    "\n",
    "Insulin control will not affect Glucose Rate of Appearance, which agrees with the ODE model."
   ]
  },
  {
   "cell_type": "markdown",
   "metadata": {},
   "source": [
    "#### Measurement Generation\n",
    "\n",
    "Measurement generation with be applied to the same control list vn. \n",
    "\n",
    "However, the parameters of the model are different, and the true parameters are set inside the function in the below cell."
   ]
  },
  {
   "cell_type": "code",
   "execution_count": 11,
   "metadata": {},
   "outputs": [],
   "source": [
    "# %load Measurement\n",
    "# Author: Xinyu Li\n",
    "# Email: xl1796@nyu.edu\n",
    "# Date: August 2019\n",
    "# Description: Generate noisy measurements here\n",
    "\n",
    "import numpy as np\n",
    "import matplotlib.pyplot as plt\n",
    "\n",
    "def measurement_generation(vn_list, t_list,  dt,h, meas_time):\n",
    "    \"\"\"a function in order to generate noisy measurements\n",
    "    @:param t_list:           time discretization\n",
    "    @:param tk_list, qk_list: meal time and meal intake amount\n",
    "    @:param dt:               interval between two measurements\"\"\"\n",
    "    ## Minimal Model Parameter to generate measurements\n",
    "    p1 = 0.6  # param determined by bio-experiments (unit: min^-1)\n",
    "    p2 = 0.0122  # unit: min^-1\n",
    "    p3 = 1.7e-5  # unit: min^-2 mU/l\n",
    "    Gb = 125  # basal plasma glucose (unit:mg/dl)\n",
    "    G0 = 130\n",
    "    X0       = 0\n",
    "    Ra_0     = 0\n",
    "    ## Insulin Parameter\n",
    "    c1 = 0.25  # unit: min^-1   [unknown parameter!!!]\n",
    "    c2 = 0.2  # unit: min^-1   [unknown parameter!!!]\n",
    "    I0 = 0.38  # unit: mU/l     [unknown initial condition]\n",
    "    Ib = 0\n",
    "\n",
    "    # digestion coefficient\n",
    "    tau      = 100                  #unit: 1  [unknown parameter!!!]\n",
    "\n",
    "    #variance of measurement noise\n",
    "    var      = 10\n",
    "\n",
    "    # true meal model\n",
    "    tk_list = [60, 350, 720]  # unit: min\n",
    "    # the time that the subject take the meal\n",
    "    meal_time = 5\n",
    "    # meal intake value\n",
    "    qk_list = np.array([3000, 4500, 3500]) / meal_time  # unit: mg/min, from ref 1 in Xinyu's writeup\n",
    "    ## Wrap the parameters into a list:\n",
    "    param_list    = [p1, p2, p3, Gb, Ib, tau, c1, c2]\n",
    "\n",
    "    G, X, I, Ra = path_generator(G0, X0, I0, Ra_0, param_list,vn_list, meas_time, t_list, tk_list, qk_list, meal_time, dt, h)\n",
    "    model_meas = G[::int(dt/(t_list[1]-t_list[0]))]\n",
    "    true_meas= model_meas+ np.random.normal(0, var, [len(model_meas)])\n",
    "    return true_meas\n",
    "\n",
    "def Plot_measurement(noisy_meas, t_list, dt):\n",
    "    plt.plot(t_list[::int(dt/(t_list[1]-t_list[0]))], noisy_meas,'o')\n",
    "    plt.title(\"Glucose Measurements\")\n",
    "    plt.xlabel(\"min\")\n",
    "    plt.ylabel(\"$G$ (mg/dl)\")\n",
    "    plt.show()\n"
   ]
  },
  {
   "cell_type": "code",
   "execution_count": 12,
   "metadata": {},
   "outputs": [
    {
     "data": {
      "image/png": "[encoded data removed]",
      "text/plain": [
       "<Figure size 432x288 with 1 Axes>"
      ]
     },
     "metadata": {},
     "output_type": "display_data"
    }
   ],
   "source": [
    "noisy_meas = measurement_generation(vn_list, t_list,  dt,h, meas_time)\n",
    "Plot_measurement(noisy_meas, t_list, dt)"
   ]
  },
  {
   "cell_type": "markdown",
   "metadata": {},
   "source": [
    "#### Cost Computation\n",
    "\n",
    "$$ J(v_0, v_n, ..., v_N) = \\int_0^{t_N} (\\hat{G}(t) - G_b)^2 dt + \\lambda \\sum_{n=0}^N{v_n} $$"
   ]
  },
  {
   "cell_type": "code",
   "execution_count": 13,
   "metadata": {},
   "outputs": [],
   "source": [
    "# %load Cost\n",
    "# Author: Xinyu Li\n",
    "# Email: xl1796@nyu.edu\n",
    "# Date: August 2019\n",
    "# Description: The cost is calculated here\n",
    "\n",
    "import numpy as np\n",
    "\n",
    "def cost_computation(G, Gb, lam, vn_list, end_time):\n",
    "    \"\"\"a function to calculate the total cost from time 0 to t1\n",
    "    :param I_t   the value of insulin I(t) by simulation\n",
    "    :param Ib    basal insulin value\n",
    "    :param G     simulation result of glucose function\n",
    "    :param Gb    basal glucose value\n",
    "    :param lam   coefficient that determine the ratio of two parts in cost function\n",
    "    :return total cost\"\"\"\n",
    "\n",
    "\n",
    "    dt_G = end_time/(len(G) - 1)\n",
    "    return lam*np.sum(vn_list)  + np.sum((G-Gb)**2 * dt_G)\n"
   ]
  },
  {
   "cell_type": "code",
   "execution_count": 14,
   "metadata": {},
   "outputs": [
    {
     "name": "stdout",
     "output_type": "stream",
     "text": [
      "cost with control: 308506.4649948557\n",
      "cost without control: 787171.0880546292\n"
     ]
    }
   ],
   "source": [
    "# find out the cost\n",
    "print(\"cost with control:\", cost_computation(G, Gb, lam, vn_list, end_time))\n",
    "print(\"cost without control:\", cost_computation(G_no_c, Gb, lam, vn_list, end_time))"
   ]
  },
  {
   "cell_type": "markdown",
   "metadata": {},
   "source": [
    "#### Finite Difference Approximation\n",
    "We want to use finite difference approximation to find out the partial derivative of cost function w.r.t parameters ($p_1$, $p_2$, $p_3$, $\\tau$, $c_1$, $c_2$), and filters ($K_1$, $K_2$, $K_3$, $K_4$). "
   ]
  },
  {
   "cell_type": "code",
   "execution_count": 3,
   "metadata": {},
   "outputs": [
    {
     "name": "stdout",
     "output_type": "stream",
     "text": [
      "[1, 2, 3]\n",
      "[1, 2, 4] [1, 2, 3]\n"
     ]
    }
   ],
   "source": [
    "l = [1,2,3]\n",
    "a = l.copy()\n",
    "print(a)\n",
    "l[2]+=1\n",
    "print(l,a)"
   ]
  },
  {
   "cell_type": "code",
   "execution_count": 18,
   "metadata": {},
   "outputs": [
    {
     "data": {
      "text/plain": [
       "[-227750.73236288028,\n",
       " 5878561.033657135,\n",
       " -6149260770.89054,\n",
       " 4438.820949448024,\n",
       " 14770907.311439514,\n",
       " -2120.696905910605,\n",
       " 394975.41792451614,\n",
       " -522679.3461782361]"
      ]
     },
     "execution_count": 18,
     "metadata": {},
     "output_type": "execute_result"
    }
   ],
   "source": [
    "[-227750.73236288028, 5878561.033657135, -6149260770.89054, 4438.820949448024, 14770907.311439514, -2120.696905910605, 394975.41792451614, -522679.3461782361]\n"
   ]
  },
  {
   "cell_type": "code",
   "execution_count": 17,
   "metadata": {},
   "outputs": [
    {
     "data": {
      "text/plain": [
       "[-227164.30199769512,\n",
       " 5871688.005128116,\n",
       " -6135500954.805478,\n",
       " 4454.128215839337,\n",
       " 1477090.7311439514,\n",
       " -2114.6327822834824,\n",
       " 394762.3097575033,\n",
       " -521504.5503088526]"
      ]
     },
     "execution_count": 17,
     "metadata": {},
     "output_type": "execute_result"
    }
   ],
   "source": [
    "[-227164.30199769512, 5871688.005128116, -6135500954.805478, 4454.128215839337, 1477090.7311439514, -2114.6327822834824, 394762.3097575033, -521504.5503088526]\n"
   ]
  },
  {
   "cell_type": "code",
   "execution_count": 19,
   "metadata": {},
   "outputs": [
    {
     "data": {
      "text/plain": [
       "[-227837.58889807746,\n",
       " 5872824.052241035,\n",
       " -6156332497.595289,\n",
       " 4437.074159531841,\n",
       " 147709073.11439514,\n",
       " -2121.7074416017313,\n",
       " 394769.3448480554,\n",
       " -523086.0853622908]"
      ]
     },
     "execution_count": 19,
     "metadata": {},
     "output_type": "execute_result"
    }
   ],
   "source": [
    "[-227837.58889807746, 5872824.052241035, -6156332497.595289, 4437.074159531841, 147709073.11439514, -2121.7074416017313, 394769.3448480554, -523086.0853622908]\n"
   ]
  },
  {
   "cell_type": "code",
   "execution_count": 21,
   "metadata": {},
   "outputs": [
    {
     "data": {
      "text/plain": [
       "[-234068.00069355537,\n",
       " 5878810.006640012,\n",
       " -6180224128.757374,\n",
       " 4437.880846542983,\n",
       " 1477090731.1439514,\n",
       " -2128.3545668206043,\n",
       " 392022.6945251571,\n",
       " -525025.7963853364]"
      ]
     },
     "execution_count": 21,
     "metadata": {},
     "output_type": "execute_result"
    }
   ],
   "source": [
    "[-234068.00069355537, 5878810.006640012, -6180224128.757374, 4437.880846542983, 1477090731.1439514, -2128.3545668206043, 392022.6945251571, -525025.7963853364]\n"
   ]
  },
  {
   "cell_type": "code",
   "execution_count": 22,
   "metadata": {},
   "outputs": [
    {
     "data": {
      "text/plain": [
       "[-232585.24794101945,\n",
       " 5764257.136016653,\n",
       " -6289481487.75107,\n",
       " 4421.271835704847,\n",
       " 14770907311.439514,\n",
       " -2151.012205553076,\n",
       " 303707.0924320251,\n",
       " -535869.5448017174]"
      ]
     },
     "execution_count": 22,
     "metadata": {},
     "output_type": "execute_result"
    }
   ],
   "source": [
    "[-232585.24794101945, 5764257.136016653, -6289481487.75107, 4421.271835704847, 14770907311.439514, -2151.012205553076, 303707.0924320251, -535869.5448017174]\n"
   ]
  },
  {
   "cell_type": "code",
   "execution_count": 23,
   "metadata": {},
   "outputs": [
    {
     "data": {
      "text/plain": [
       "[-189304351.8047476,\n",
       " -312680103.7366273,\n",
       " -1253801233615.6792,\n",
       " 98800.6591786995,\n",
       " 147709073114395.16,\n",
       " -315308.5708586633,\n",
       " -3242492.675748825,\n",
       " 42438507.07965374]"
      ]
     },
     "execution_count": 23,
     "metadata": {},
     "output_type": "execute_result"
    }
   ],
   "source": [
    "[-189304351.8047476, -312680103.7366273, -1253801233615.6792, 98800.6591786995, 147709073114395.16, -315308.5708586633, -3242492.675748825, 42438507.07965374]\n"
   ]
  },
  {
   "cell_type": "code",
   "execution_count": 24,
   "metadata": {},
   "outputs": [
    {
     "data": {
      "text/plain": [
       "[-304381052.6526904,\n",
       " -23646432845.295254,\n",
       " -10490417480458.258,\n",
       " -1483917.236326641,\n",
       " 1477090731143951.5,\n",
       " 911951.0650625644,\n",
       " -1140594482.4207344,\n",
       " -844001770.0186872]"
      ]
     },
     "execution_count": 24,
     "metadata": {},
     "output_type": "execute_result"
    }
   ],
   "source": [
    "[-304381052.6526904, -23646432845.295254, -10490417480458.258, -1483917.236326641, 1477090731143951.5, 911951.0650625644, -1140594482.4207344, -844001770.0186872]\n"
   ]
  },
  {
   "cell_type": "code",
   "execution_count": null,
   "metadata": {},
   "outputs": [],
   "source": []
  },
  {
   "cell_type": "code",
   "execution_count": null,
   "metadata": {},
   "outputs": [],
   "source": []
  }
 ],
 "metadata": {
  "kernelspec": {
   "display_name": "Python 3",
   "language": "python",
   "name": "python3"
  },
  "language_info": {
   "codemirror_mode": {
    "name": "ipython",
    "version": 3
   },
   "file_extension": ".py",
   "mimetype": "text/x-python",
   "name": "python",
   "nbconvert_exporter": "python",
   "pygments_lexer": "ipython3",
   "version": "3.6.5"
  }
 },
 "nbformat": 4,
 "nbformat_minor": 2
}
