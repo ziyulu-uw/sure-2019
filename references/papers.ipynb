{
 "cells": [
  {
   "cell_type": "markdown",
   "metadata": {},
   "source": [
    "Comments on p1.pdf\n",
    "<ul>\n",
    "    <li> Equation (2) has a typo?  I think ($p_1-X(t))$ should be $(p_1+X(t))$</li>\n",
    "    <li> Equation (5) is a linearization of equations (1) and (2) about the steady solution $R=0$, $G=0$, and $I = I_b$, etc.  The $\\dot{G}$ on the left side is the same as $\\frac{d}{dt} \\Delta G$.\n",
    "    <li> What they call the ``transfer function'' in (6) is actually the related ``Laplace transform'' of the solution, which is \n",
    "\\[ \\Delta G(s) = \\int_0^{\\infty} \\Delta G(t) e^{-st} dt \n",
    "\\]\n",
    "The thing called $\\Delta G(s)$ on the left is not the same function as $\\Delta G(t)$ on the right.  It's common outside math to use the same symbol for different functions related by the Fourier or Laplace transform.  For example, if $f(x)$ is some function, it's Fourier transform is \n",
    "\\[\n",
    "     f(k) = \\int_{-\\infty}^{\\infty} f(x) e^{-ikx}dx\n",
    "\\]\n",
    "Math people would write $\\widehat{f}(k)$ instead of $f(k)$ on the left of this formula, but many others don't.  \n",
    "You don't have to understand this, because the point is to find the solution of the initial value problem for the linearized problem (5).\n",
    "We've already done harder problems of this type.\n",
    "The solution is the red curve in the top part of Figure 1. </li> \n",
    "    <li> I don't see where they give the value of $G_b$, but it seems to be about $4 \\frac{\\text{mmole}}{\\text{l}}$ in the top part of Figure 1.</li>\n",
    "    <li>I don't understand Section 3.1.  Maybe you can figure out what they're trying to say.</li>\n",
    "    <li>Section 3.2 mentions a PID controller.  The Wikepedia page describes this; https://en.wikipedia.org/wiki/PID_controller .  It's a simple form of a linear feadback controller of the kind we did for the 2D model.  The Matlab Simulink toolbox has methods for ``tuning'' (choosing the control parameters).  We would do the tuning by stochastic gradient descent.</li>\n",
    "</ul>\n"
   ]
  },
  {
   "cell_type": "code",
   "execution_count": null,
   "metadata": {},
   "outputs": [],
   "source": []
  }
 ],
 "metadata": {
  "kernelspec": {
   "display_name": "Python 3",
   "language": "python",
   "name": "python3"
  },
  "language_info": {
   "codemirror_mode": {
    "name": "ipython",
    "version": 3
   },
   "file_extension": ".py",
   "mimetype": "text/x-python",
   "name": "python",
   "nbconvert_exporter": "python",
   "pygments_lexer": "ipython3",
   "version": "3.6.8"
  }
 },
 "nbformat": 4,
 "nbformat_minor": 2
}
